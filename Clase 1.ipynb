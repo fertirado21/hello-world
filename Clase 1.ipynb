{
 "cells": [
  {
   "cell_type": "code",
   "execution_count": 1,
   "id": "a7eff735",
   "metadata": {},
   "outputs": [
    {
     "name": "stdout",
     "output_type": "stream",
     "text": [
      "Hola mundo\n"
     ]
    }
   ],
   "source": [
    "print (\"Hola mundo\")"
   ]
  },
  {
   "cell_type": "markdown",
   "id": "707a22ac",
   "metadata": {},
   "source": [
    "# Titulo"
   ]
  },
  {
   "cell_type": "markdown",
   "id": "3e1a9701",
   "metadata": {},
   "source": [
    "## Subtitulo"
   ]
  },
  {
   "cell_type": "markdown",
   "id": "055beced",
   "metadata": {},
   "source": [
    "Mi nombre es **Fer**"
   ]
  },
  {
   "cell_type": "markdown",
   "id": "3cd5e5a7",
   "metadata": {},
   "source": [
    "1. Lista\n",
    "2. Ejemplo\n",
    "3. Markdown"
   ]
  },
  {
   "cell_type": "markdown",
   "id": "7563607b",
   "metadata": {},
   "source": [
    "1. Lista\n",
    "    - Sublista\n",
    "    - Sublista"
   ]
  },
  {
   "cell_type": "markdown",
   "id": "db8df0dc",
   "metadata": {},
   "source": [
    "$$ x = 2 $$"
   ]
  },
  {
   "cell_type": "markdown",
   "id": "44d2b35f",
   "metadata": {},
   "source": [
    "$ x = 2 $"
   ]
  }
 ],
 "metadata": {
  "kernelspec": {
   "display_name": "Python 3 (ipykernel)",
   "language": "python",
   "name": "python3"
  },
  "language_info": {
   "codemirror_mode": {
    "name": "ipython",
    "version": 3
   },
   "file_extension": ".py",
   "mimetype": "text/x-python",
   "name": "python",
   "nbconvert_exporter": "python",
   "pygments_lexer": "ipython3",
   "version": "3.11.4"
  }
 },
 "nbformat": 4,
 "nbformat_minor": 5
}
